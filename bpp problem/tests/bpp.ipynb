{
  "nbformat": 4,
  "nbformat_minor": 2,
  "metadata": {
    "colab": {
      "name": "bpp.ipynb",
      "provenance": []
    },
    "kernelspec": {
      "name": "python3",
      "display_name": "Python 3.9.6 64-bit"
    },
    "language_info": {
      "name": "python",
      "version": "3.9.6",
      "mimetype": "text/x-python",
      "codemirror_mode": {
        "name": "ipython",
        "version": 3
      },
      "pygments_lexer": "ipython3",
      "nbconvert_exporter": "python",
      "file_extension": ".py"
    },
    "interpreter": {
      "hash": "4f0ffb3683f6d916fbba459b0ddb22e5e675b5ce53403c30e65bad3b886ae6df"
    }
  },
  "cells": [
    {
      "cell_type": "markdown",
      "source": [
        "heurística // numpy"
      ],
      "metadata": {
        "id": "2CQQKxLpSY87"
      }
    },
    {
      "cell_type": "code",
      "execution_count": null,
      "source": [
        "import numpy as np\r\n",
        "import math\r\n",
        "\r\n",
        "# Supondo que n > 0, V > 0 e v[i] >=  e que todos itens cabem nos recipientes\r\n",
        "\r\n",
        "# Ordenar os itens pelo peso, colocar o primeiro item no primeiro bin, depois ver em qual dos bins já ocupados o próximo item cabe melhor (sobra menos espaço), se não couber em nenhum, coloca no primeiro bin vazio\r\n",
        "\r\n",
        "# Entradas\r\n",
        "teste = np.loadtxt(\"arquivo.txt\")\r\n",
        "V = int(teste[1])  # Capacidade dos recipientes\r\n",
        "B = 0  # Quantidade de recipientes não vazios\r\n",
        "v = teste[2:teste.size].astype(int)  # Peso de cada item\r\n",
        "n = v.size  # Quantidade de itens\r\n",
        "# Ordenando v de forma decrescente (tentar também com outros métodos)\r\n",
        "v = -np.sort(-v, kind='heapsort')\r\n",
        "# Criando o vetor com os recipientes ainda vazios\r\n",
        "S = (np.zeros(n) + V).astype(int)\r\n",
        "S[0] -= v[0]  # Colocando o primeiro item no primeiro recipiente\r\n",
        "B += 1  # Aumentando a quantidade de recipientes ocupados\r\n",
        "for i in v[1:n]:  # Considerar todos os itens que restam (do segundo ao ultimo)\r\n",
        "    # R[1] vai indicar em qual recipiente o elemento i cabe deixando menos espaco sobrando\r\n",
        "    R = np.array([math.inf, -1])\r\n",
        "    for j in range(B):  # Para cada recipiente ja ocupado\r\n",
        "        if R[0] > (S[j] - i) and (S[j] - i) >= 0:\r\n",
        "            R[0] = S[j] - i\r\n",
        "            R[1] = j\r\n",
        "    # deu errado (não cabe em nenhum já ocupado) (colocar no próximo)\r\n",
        "    if R[0] == math.inf:\r\n",
        "        S[B] = S[B] - i\r\n",
        "        B = B + 1\r\n",
        "    else:  # deu certo (colocar i onde couber melhor)\r\n",
        "        S[int(R[1])] = S[int(R[1])] - i\r\n",
        "print(B)\r\n"
      ],
      "outputs": [],
      "metadata": {
        "id": "0PUx5jPXRibj"
      }
    },
    {
      "cell_type": "markdown",
      "source": [
        "modelo // mip"
      ],
      "metadata": {
        "id": "0xH7vsQMSguD"
      }
    },
    {
      "cell_type": "code",
      "execution_count": null,
      "source": [
        "from mip import Model, xsum, BINARY, INTEGER\r\n",
        "\r\n",
        "L = 10  # Capacidade dos Bins\r\n",
        "w = [3, 2, 1, 2, 4, 5, 3, 9, 8, 7, 5, 6, 3, 2, 1, 0, 5, 6, 7, 8, 3, 1, 1, 2, 2, 8,\r\n",
        "     8, 9, 5, 9, 5, 8, 7, 6, 3, 4, 9, 8, 7, 6, 5, 5, 5, 10, 3, 1, 3, 1, 3]  # Itens\r\n",
        "n = len(w)  # Quantidade de Itens\r\n",
        "\r\n",
        "# creating the model\r\n",
        "model = Model()\r\n",
        "x = {(i, j): model.add_var(obj=0, var_type=INTEGER, name=\"x[%d,%d]\" % (i, j))\r\n",
        "     for i in range(n) for j in range(n)}\r\n",
        "y = {j: model.add_var(obj=1, var_type=BINARY, name=\"y[%d]\" % j)\r\n",
        "     for j in range(n)}\r\n",
        "\r\n",
        "# constraints\r\n",
        "for i in range(n):\r\n",
        "    model.add_constr(xsum(x[i, j] for j in range(n)) == 1)\r\n",
        "for j in range(n):\r\n",
        "    model.add_constr(xsum(w[i] * x[i, j] for i in range(n)) <= L * y[j])\r\n",
        "\r\n",
        "# additional constraints to reduce symmetry\r\n",
        "for j in range(1, n):\r\n",
        "    model.add_constr(y[j - 1] >= y[j])\r\n",
        "\r\n",
        "# optimizing the model\r\n",
        "model.optimize()\r\n",
        "\r\n",
        "# printing the solution\r\n",
        "print('')\r\n",
        "print('Objective value: {model.objective_value:.3}'.format(**locals()))\r\n",
        "print('Solution: ', end='')\r\n",
        "for v in model.vars:\r\n",
        "    if v.x > 1e-5:\r\n",
        "        print('{v.name} = {v.x}'.format(**locals()))\r\n",
        "        print('          ', end='')"
      ],
      "outputs": [],
      "metadata": {
        "id": "buO74G4CSjJQ"
      }
    }
  ]
}