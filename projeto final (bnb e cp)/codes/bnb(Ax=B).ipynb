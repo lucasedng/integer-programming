{
  "nbformat": 4,
  "nbformat_minor": 2,
  "metadata": {
    "language_info": {
      "codemirror_mode": {
        "name": "ipython",
        "version": 3
      },
      "file_extension": ".py",
      "mimetype": "text/x-python",
      "name": "python",
      "nbconvert_exporter": "python",
      "pygments_lexer": "ipython3",
      "version": "3.9.6"
    },
    "orig_nbformat": 2,
    "kernelspec": {
      "name": "python3",
      "display_name": "Python 3.9.6 64-bit"
    },
    "colab": {
      "name": "BnB1.ipynb",
      "provenance": []
    },
    "interpreter": {
      "hash": "4f0ffb3683f6d916fbba459b0ddb22e5e675b5ce53403c30e65bad3b886ae6df"
    }
  },
  "cells": [
    {
      "cell_type": "code",
      "execution_count": null,
      "source": [
        "pip install numpy"
      ],
      "outputs": [],
      "metadata": {}
    },
    {
      "cell_type": "code",
      "execution_count": 4,
      "source": [
        "import numpy as np\r\n",
        "from scipy import optimize\r\n",
        "import math"
      ],
      "outputs": [],
      "metadata": {}
    },
    {
      "cell_type": "code",
      "execution_count": 9,
      "source": [
        "erro = 0.1\r\n",
        "\r\n",
        "\r\n",
        "def BranchAndBound(c, Aub, bub, l, u, R):\r\n",
        "    # Resolver o problema por simplex\r\n",
        "    Sol = optimize.linprog(c=-c, A_ub=Aub, b_ub=bub,\r\n",
        "                           bounds=(l, u), method='simplex')\r\n",
        "    print(Sol.x)\r\n",
        "\r\n",
        "    # Se factível -> Colocar solução na lista\r\n",
        "    # Senão -> Resolver filhos\r\n",
        "    if(abs(Sol.x[0] - math.floor(Sol.x[0])) <= erro and abs(Sol.x[1] - math.floor(Sol.x[1])) <= erro):\r\n",
        "        # Colocar em R\r\n",
        "        R = np.insert(R, R.size, Sol.fun)\r\n",
        "    else:\r\n",
        "        # Primeiro, ver em qual variavel colocar a proxima restrição\r\n",
        "        r = 0\r\n",
        "        if abs(Sol.x[0] - math.floor(Sol.x[0])) <= abs(Sol.x[1] - math.floor(Sol.x[1])):\r\n",
        "            r = 1\r\n",
        "        else:\r\n",
        "            r = 0\r\n",
        "        print(\"Calcular em\", r)\r\n",
        "        nova_cond = np.array([0, 0])\r\n",
        "        nova_cond[r] = 1\r\n",
        "        # Criar filho da esquerda\r\n",
        "        A_e = np.vstack((Aub, nova_cond))\r\n",
        "        b_e = np.hstack((bub, math.floor(Sol.x[r])))\r\n",
        "        BranchAndBound(c, A_e, b_e, 0, None, R)\r\n",
        "\r\n",
        "        # Criar filho da direita\r\n",
        "        nova_cond[r] = -1\r\n",
        "        A_d = np.vstack((Aub, nova_cond))\r\n",
        "        b_d = np.hstack((bub, -math.ceil(Sol.x[r])))\r\n",
        "        BranchAndBound(c, A_d, b_d, 0, None, R)\r\n"
      ],
      "outputs": [],
      "metadata": {
        "id": "nAIlW3umbAvh"
      }
    },
    {
      "cell_type": "markdown",
      "source": [
        "Queremos resolver um problema linear do tipo\r\n",
        "\\begin{align}\r\n",
        "\\textbf{Min} \\quad & c^t x \\\\\r\n",
        "\\textbf{s.a.} \\quad & A_{ub} x \\leq b_{ub} \\\\\r\n",
        "& A_{eq} x \\leq b_{eq} \\\\\r\n",
        "& l \\leq x \\leq u \\\\\r\n",
        "& x \\in \\mathbb Z\r\n",
        "\r\n",
        "\\end{align}"
      ],
      "metadata": {
        "id": "2urMO96zbAvg"
      }
    },
    {
      "cell_type": "code",
      "execution_count": null,
      "source": [
        "c = np.array([5, 8])\r\n",
        "A = np.array([[1, 1], [5, 9]])\r\n",
        "b = np.array([6, 45])\r\n",
        "R = np.array([0])\r\n",
        "\r\n",
        "BranchAndBound(c, A, b, 0, None, R)\r\n"
      ],
      "outputs": [],
      "metadata": {
        "id": "rBHx2QhPbAvd"
      }
    }
  ]
}