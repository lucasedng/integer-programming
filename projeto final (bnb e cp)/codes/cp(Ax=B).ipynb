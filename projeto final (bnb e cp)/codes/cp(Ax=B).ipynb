{
  "nbformat": 4,
  "nbformat_minor": 2,
  "metadata": {
    "colab": {
      "name": "CP_MIP.ipynb",
      "provenance": [],
      "collapsed_sections": []
    },
    "kernelspec": {
      "name": "python3",
      "display_name": "Python 3.9.6 64-bit"
    },
    "language_info": {
      "name": "python",
      "version": "3.9.6",
      "mimetype": "text/x-python",
      "codemirror_mode": {
        "name": "ipython",
        "version": 3
      },
      "pygments_lexer": "ipython3",
      "nbconvert_exporter": "python",
      "file_extension": ".py"
    },
    "interpreter": {
      "hash": "4f0ffb3683f6d916fbba459b0ddb22e5e675b5ce53403c30e65bad3b886ae6df"
    }
  },
  "cells": [
    {
      "cell_type": "code",
      "execution_count": null,
      "source": [
        "pip install mip"
      ],
      "outputs": [],
      "metadata": {
        "id": "a5_fq0b6FrX9"
      }
    },
    {
      "cell_type": "code",
      "execution_count": null,
      "source": [
        "pip install pysmps"
      ],
      "outputs": [],
      "metadata": {
        "id": "AVGNFzr-Yy1Q"
      }
    },
    {
      "cell_type": "code",
      "execution_count": 3,
      "source": [
        "import numpy as np\r\n",
        "import mip\r\n",
        "from math import *\r\n",
        "import pysmps\r\n",
        "from pysmps import smps_loader as smps\r\n",
        "\r\n",
        "import sys\r\n",
        "sys.setrecursionlimit(10000)\r\n"
      ],
      "outputs": [],
      "metadata": {
        "id": "jICW2kRxFvQk"
      }
    },
    {
      "cell_type": "code",
      "execution_count": 5,
      "source": [
        "erro = 0.01\r\n",
        "\r\n",
        "\r\n",
        "def CuttingPlane(N, S):\r\n",
        "    # Resolver o problema relaxado\r\n",
        "    N.optimize(relax=True)\r\n",
        "    print(N.objective_value)\r\n",
        "\r\n",
        "    # Ver se é factível\r\n",
        "    if N.status.value:\r\n",
        "        print(\"Não é factível\")\r\n",
        "        return S  # Se não for factível: Retornar vetor de soluções\r\n",
        "\r\n",
        "    # Ver se a solução é inteira, se for, adicionar ao vetor S e retornar S\r\n",
        "    V = np.array([N.vars[i].x for i in range(len(N.vars))])\r\n",
        "    W = np.array([round(V[i]) for i in range(len(V))])\r\n",
        "    if np.linalg.norm(abs(V - W)) <= erro:\r\n",
        "        S = np.insert(S, S.size, N.objective_value)\r\n",
        "        return S\r\n",
        "\r\n",
        "    else:\r\n",
        "        # Gerar corte para o modelo e resolver de novo\r\n",
        "        C = N.generate_cuts([mip.CutType.GOMORY])\r\n",
        "\r\n",
        "        if C.cuts:\r\n",
        "            N += C\r\n",
        "\r\n",
        "        S = CuttingPlane(N, S)\r\n",
        "\r\n",
        "    return S\r\n"
      ],
      "outputs": [],
      "metadata": {
        "id": "3gUUToUcFxQk"
      }
    }
  ]
}