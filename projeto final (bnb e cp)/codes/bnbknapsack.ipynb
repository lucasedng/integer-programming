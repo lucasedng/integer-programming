{
  "nbformat": 4,
  "nbformat_minor": 2,
  "metadata": {
    "colab": {
      "name": "BnB_Mochila",
      "provenance": [],
      "collapsed_sections": []
    },
    "kernelspec": {
      "name": "python3",
      "display_name": "Python 3"
    }
  },
  "cells": [
    {
      "cell_type": "code",
      "execution_count": 2,
      "source": [
        "import numpy as np\r\n",
        "from scipy import optimize\r\n",
        "import math"
      ],
      "outputs": [],
      "metadata": {
        "id": "jEjEN8Jvsv7Y"
      }
    },
    {
      "cell_type": "code",
      "execution_count": 8,
      "source": [
        "r = np.zeros(c.size).astype(int)\r\n",
        "for i in range(c.size):\r\n",
        "    s = np.array(r)\r\n",
        "    s = np.vstack((s, s))\r\n",
        "    A = np.vstack((A, s))\r\n",
        "\r\n",
        "r = np.zeros(2*c.size).astype(int)\r\n",
        "b = np.hstack((b, r))\r\n",
        "\r\n",
        "R = np.array([0])\r\n",
        "R = BranchAndBound(-c, A, b, 0, 1, R, k)\r\n",
        "# print(R)\r\n",
        "max(-R)\r\n"
      ],
      "outputs": [
        {
          "output_type": "execute_result",
          "data": {
            "text/plain": [
              "295"
            ]
          },
          "metadata": {},
          "execution_count": 8
        }
      ],
      "metadata": {
        "colab": {
          "base_uri": "https://localhost:8080/"
        },
        "id": "TwbpUo6mu0MF",
        "outputId": "9718c428-e80e-4746-8123-eaf1561a9a83"
      }
    },
    {
      "cell_type": "code",
      "execution_count": 6,
      "source": [
        "erro = 0.01\r\n",
        "\r\n",
        "\r\n",
        "def Esquerda(c, A_e, b_e, l, u, S, sol, r, k):\r\n",
        "    A_e[k + 2*r - 1][r - 1] = 1\r\n",
        "    # Muda a restricao no vetor b\r\n",
        "    b_e[k + 2*r - 1] = math.floor(sol[r - 1])\r\n",
        "\r\n",
        "    S = BranchAndBound(c, A_e, b_e, l, u, S, k)\r\n",
        "    return S\r\n",
        "\r\n",
        "\r\n",
        "def Direita(c, A_d, b_d, l, u, S, sol, r, k):\r\n",
        "    A_d[k + 2*r][r - 1] = -1\r\n",
        "    # Muda a restricao no vetor b\r\n",
        "    b_d[k + 2*r] = -math.ceil(sol[r - 1])\r\n",
        "\r\n",
        "    S = BranchAndBound(c, A_d, b_d, l, u, S, k)\r\n",
        "    return S\r\n",
        "\r\n",
        "\r\n",
        "def BranchAndBound(c, Aub, bub, l, u, S, k):\r\n",
        "    # Resolver o problema por simplex\r\n",
        "    Sol = optimize.linprog(c=c, A_ub=Aub, b_ub=bub,\r\n",
        "                           bounds=(l, u), method='simplex')\r\n",
        "\r\n",
        "    # Ver se é factível\r\n",
        "    v = 0\r\n",
        "    for i in range(k+1):\r\n",
        "        if np.inner(A[i, :], Sol.x) > b[i]:\r\n",
        "            v = 1\r\n",
        "    if v == 1:\r\n",
        "        return S\r\n",
        "\r\n",
        "    # Ver se a solução é inteira\r\n",
        "    if np.linalg.norm(abs(Sol.x - np.array(Sol.x).astype(int))) <= erro:\r\n",
        "        S = np.insert(S, S.size, Sol.fun)\r\n",
        "\r\n",
        "        return S\r\n",
        "\r\n",
        "    else:\r\n",
        "        # Ver qual variavel tem a maior parte fracionaria\r\n",
        "        r = abs(Sol.x - np.array(Sol.x).astype(int)).tolist()\r\n",
        "        r = r.index(max(r)) + 1\r\n",
        "\r\n",
        "        # Filho da esquerda\r\n",
        "        S = Esquerda(c, np.array(Aub), np.array(\r\n",
        "            bub), l, u, S, np.array(Sol.x), r, k)\r\n",
        "\r\n",
        "        # Filho da Direita\r\n",
        "        S = Direita(c, np.array(Aub), np.array(bub),\r\n",
        "                    l, u, S, np.array(Sol.x), r, k)\r\n",
        "\r\n",
        "        return S\r\n"
      ],
      "outputs": [],
      "metadata": {
        "id": "i90LB6l0u2-K"
      }
    }
  ]
}